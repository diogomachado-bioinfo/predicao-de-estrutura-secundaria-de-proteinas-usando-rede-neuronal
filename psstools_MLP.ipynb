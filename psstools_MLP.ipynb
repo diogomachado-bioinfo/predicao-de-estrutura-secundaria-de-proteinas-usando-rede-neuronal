{
 "cells": [
  {
   "cell_type": "code",
   "execution_count": 17,
   "metadata": {},
   "outputs": [],
   "source": [
    "from psstools import *"
   ]
  },
  {
   "cell_type": "code",
   "execution_count": 5,
   "metadata": {},
   "outputs": [],
   "source": [
    "#Download, descompactação e formatção do arquivo de estruturas secundárias\n",
    "#pss_down()\n",
    "#pss_format()"
   ]
  },
  {
   "cell_type": "code",
   "execution_count": 6,
   "metadata": {},
   "outputs": [],
   "source": [
    "randon_pss = pss_load (total_de_sequencias = 125, tamanho_minimo = 100, random_selection = False, ssForm_name = 'ss2.txt')\n",
    "rs_pss = pss_load (total_de_sequencias = 75, tamanho_minimo = 17, random_selection = False, ssForm_name = 'Ross_Saunder.txt')\n",
    "dataset_pss=np.concatenate((randon_pss, rs_pss), axis=1)"
   ]
  },
  {
   "cell_type": "code",
   "execution_count": 7,
   "metadata": {},
   "outputs": [],
   "source": [
    "#pd.DataFrame(np.array(dataset_pss)).T"
   ]
  },
  {
   "cell_type": "code",
   "execution_count": 8,
   "metadata": {},
   "outputs": [],
   "source": [
    "ss_vect = pss2vect(dataset_pss[1])"
   ]
  },
  {
   "cell_type": "code",
   "execution_count": 9,
   "metadata": {},
   "outputs": [],
   "source": [
    "#pd.DataFrame(ss_vect)"
   ]
  },
  {
   "cell_type": "code",
   "execution_count": 10,
   "metadata": {},
   "outputs": [],
   "source": [
    "aa_vect = aa2vect(dataset_pss[0])"
   ]
  },
  {
   "cell_type": "code",
   "execution_count": 11,
   "metadata": {},
   "outputs": [],
   "source": [
    "#pd.DataFrame(aa_vect)"
   ]
  },
  {
   "cell_type": "code",
   "execution_count": 12,
   "metadata": {},
   "outputs": [
    {
     "name": "stdout",
     "output_type": "stream",
     "text": [
      "Conjunto para treino:  33357\n",
      "Conjunto para teste:  3707\n"
     ]
    }
   ],
   "source": [
    "#dividir conjuntos\n",
    "from sklearn.model_selection import train_test_split\n",
    "x=np.array(aa_vect)\n",
    "y=np.array(ss_vect)\n",
    "x_train, x_test, y_train, y_test = train_test_split(x, y, test_size=0.10)\n",
    "print ('Conjunto para treino: ',len(x_train))\n",
    "print ('Conjunto para teste: ',len(x_test))"
   ]
  },
  {
   "cell_type": "code",
   "execution_count": 13,
   "metadata": {},
   "outputs": [
    {
     "name": "stdout",
     "output_type": "stream",
     "text": [
      "             precision    recall  f1-score   support\n",
      "\n",
      "          C       0.79      0.78      0.78      1372\n",
      "          E       0.78      0.60      0.68       658\n",
      "          H       0.85      0.84      0.84      1677\n",
      "\n",
      "avg / total       0.81      0.78      0.79      3707\n",
      " \n",
      "\n",
      "Precisão geral:  0.75424871864041 \n",
      "\n"
     ]
    },
    {
     "data": {
      "text/html": [
       "<div>\n",
       "<style scoped>\n",
       "    .dataframe tbody tr th:only-of-type {\n",
       "        vertical-align: middle;\n",
       "    }\n",
       "\n",
       "    .dataframe tbody tr th {\n",
       "        vertical-align: top;\n",
       "    }\n",
       "\n",
       "    .dataframe thead th {\n",
       "        text-align: right;\n",
       "    }\n",
       "</style>\n",
       "<table border=\"1\" class=\"dataframe\">\n",
       "  <thead>\n",
       "    <tr style=\"text-align: right;\">\n",
       "      <th></th>\n",
       "      <th>0</th>\n",
       "      <th>1</th>\n",
       "      <th>2</th>\n",
       "    </tr>\n",
       "  </thead>\n",
       "  <tbody>\n",
       "    <tr>\n",
       "      <th>0</th>\n",
       "      <td>1165</td>\n",
       "      <td>51</td>\n",
       "      <td>156</td>\n",
       "    </tr>\n",
       "    <tr>\n",
       "      <th>1</th>\n",
       "      <td>207</td>\n",
       "      <td>378</td>\n",
       "      <td>73</td>\n",
       "    </tr>\n",
       "    <tr>\n",
       "      <th>2</th>\n",
       "      <td>246</td>\n",
       "      <td>44</td>\n",
       "      <td>1387</td>\n",
       "    </tr>\n",
       "  </tbody>\n",
       "</table>\n",
       "</div>"
      ],
      "text/plain": [
       "      0    1     2\n",
       "0  1165   51   156\n",
       "1   207  378    73\n",
       "2   246   44  1387"
      ]
     },
     "execution_count": 13,
     "metadata": {},
     "output_type": "execute_result"
    }
   ],
   "source": [
    "#treinamento\n",
    "from sklearn.neural_network import MLPClassifier\n",
    "mlp = MLPClassifier(hidden_layer_sizes=(500),max_iter=1000,learning_rate_init=0.01,activation='relu')\n",
    "mlp.fit(x_train,y_train)\n",
    "predictions = mlp.predict(x_test)\n",
    "\n",
    "#resultado da rede\n",
    "from sklearn.metrics import confusion_matrix,classification_report,accuracy_score\n",
    "print(classification_report(y_test,predictions,target_names=['C','E','H']),'\\n')\n",
    "precisao = accuracy_score(y_test, predictions)\n",
    "print('Precisão geral: ',precisao,'\\n')\n",
    "pd.DataFrame(confusion_matrix(y_test.astype(int).argmax(axis=1), predictions.argmax(axis=1)))"
   ]
  },
  {
   "cell_type": "code",
   "execution_count": 14,
   "metadata": {},
   "outputs": [
    {
     "name": "stdout",
     "output_type": "stream",
     "text": [
      "CCCCCHHHCEEEEHHHHCCCCCECCECCCCCCCCHHHHHHHHHHHCCCEEECEHHHHCCCCCCHHHHHHHHHHHHHHHHHHCCECCEEECCCCCCHHHCCCCCCCCCHHHHHHHHHHHHHHHHHHHHHCCCEEEEECCCCEECCHHHCCHHHHHHHHHHHHHHHHHHHHHHCCCCEEEEECCCCCCCCEECCCCHHHHHHHHCCCCCHHHEEECCEHHHHHCCCCCHHHHHHHHHHHCCECCCEECECCCCCCCCCECCCCCCHHHHHHHHHHHHCCCCCCCCCCCCEEECCCCCCCCCHHHHHHHHHHHHHHHHHHHHHHHHHHHCHHHHHHHHHHCHHHHHCCCCCCCCCHHHHHHCHHHCCCCCHHHHHHCCCCHHHHHHHHHHHHCCCC \n",
      "\n",
      "CCCCCCCCCCECECCCHHHHHHCCCCCHHECCCCHCHCHHHHHHHCCEEEECEHHCCCCCCCCCCCHCCHHHHHHCHCCCCCCEEEEEECCCCCCHHHCCCCCCCCCHHHHHHHHHHHHHHHHCCHHCCCCECEHCCCCCCCCHCCCCHHHHHHHHHHHHHHHHHCCCCCHCCCCEEEECCCCCCCCCCECCCCCHHHCHHHHHCCCCCEECECCCCCCCHCCHCCHHCHHHHHHHCCCCCCCECCCCCCCCCCCCCCCCCCCHCHHHCHHCCCCCCCCCCCCCCCCCECCCCCCCCCCHCHHCHHHHHHHHHHHHHHHHHHHHCHCHHHHHHHHCCCCCCCCCCCCCCCCCCHCHHHCCHHCHHHCHHCHCCCCCCCCCHCHHHHCCCCCCC \n",
      "\n",
      "72.264631043257 \n",
      "\n",
      "CCCCHHHHHHHHHHHHHHHHHHHHHHHHHHHHHHHHCHHHHHHCCCCCCCCCHHHHHHCHHHHHHHHHHHHHHHHHHCCCCCCHHHHHHHHHHHHHCCCCCHHHHHHHHHHHHHHHHHHCHHHCCHHHHHHHHHHHHHHHHHHHHHHHHCCCCC \n",
      "\n",
      "CCCCCCCCCHHHHHHHHHHHHHHHHHHHHHHHHHHHCHHHHHHCCCCCCCCCHHHHHHCHHHHHHHHHHHHHHHHHHCCCCCCHHHHHHHHHHHHHCCCCCHHHHHHHHHHHHHHHHHHCHHHCCHHHHHHHHHHHHHHHHHHHHHHCCCCCCC \n",
      "\n",
      "95.45454545454545 \n",
      "\n",
      "CCCEHHHCCCCCCEEEEECCCCCCEECCEECCCHHHHHHHHHHHHHHHCCCEEEEECCCCCCCCECHHHHHHHHHHCCCCCCCHHHCCHHHHHHHHHHHCCCCEEECCCCCCHHHHHCCCCCCEEEECCHHHEHHHHCCCHHHHHHHHHHHHCCCCEEEECCCCCCCCCCCCCCHHHHHHCCCEECHHHHHHHHHHHHHHHCCCCCEEEEECCCCHHHHHHHHHHHCCCCCEEEECCCHHHHHHHHCCCCCCCCCCCHHHHHHHHHHHHHHHHCCCEEECCCCEEEECCCCCCCCCEECCCCCCCCCCEEEEECHHHHHHHHHHHHCCCEEEEECCCCCCCCHHHCHHHHHHHHHHHHHHHHHCCEEEEECHHHHHHHHHHCHHHHCCEEECCCHHHHHHHHCCCCHHHHCCCCC \n",
      "\n",
      "CCCCCCCCCCCCCEEEEECCCCCCEECCEECCCHHHHHHHHHHHHHHHCCCEEEEECCCCCCCCECHHHHHHHHHCCCCCCCCHHHCCHHHHHHHHHHHCCCCEEECCCCCCHHHHHCCCCCCEEEECCHHHEHHHHCCCHHHHHHHHHHHHCCCCEEEECCHCCCCCCCHCHCHHHHHHCCCEECHHHHHHHHHHHHHHCCCCCCEEEEECCCCHHHHHHHHHHHCCCCCEEEECCCHHHHHHHHHCCCCCCCCCCHHHHHHHHHHHHHHHHCCCEEECCCCEEEECCCCCCCCCEECCCCCCCCCCEEEEECHHHHHHHHHHHHCCCEEEEECCCCCCCCHHHCHHHHHHHHHHHHHHHHHCCEEEECCHHHHHHHHHHCCHHHCCEECCCCCHHCHHHHCCCCHHCCCCCCC \n",
      "\n",
      "95.90361445783132 \n",
      "\n"
     ]
    }
   ],
   "source": [
    "#teste de predição\n",
    "seq1=['SVQATREDKFSFGLWTVGWQARDAFGDATRTALDPVEAVHKLAEIGAYGITFHDDDLVPFGSDAQTRDGIIAGFKKALDETGLIVPMVTTNLFTHPVFKDGGFTSNDRSVRRYAIRKVLRQMDLGAELGAKTLVLWGGREGAEYDSAKDVSAALDRYREALNLLAQYSEDRGYGLRFAIEPKPNQPRGDILLPTAGHAIAFVQELERPELFGINPETGHEQMSNLNFTQGIAQALWHKKLFHIDLNGQHGPKFDQDLVFGHGDLLNAFSLVDLLENGPDGAPAYDGPRHFDYKPSRTEDYDGVWESAKANIRMYLLLKERAKAFRADPEVQEALAASKVAELKTPTLNPGEGYAELLADRSAFEDYDADAVGAKGFGFVKLNQLAIEHLLGAR']\n",
    "predita1=pss_prediction(seq1,mlp)\n",
    "\n",
    "real1='CCCCCHHHCEEEEHHHHCCCCCECCECCCCCCCCHHHHHHHHHHHCCCEEECEHHHHCCCCCCHHHHHHHHHHHHHHHHHHCCECCEEECCCCCCHHHCCCCCCCCCHHHHHHHHHHHHHHHHHHHHHCCCEEEEECCCCEECCHHHCCHHHHHHHHHHHHHHHHHHHHHHCCCCEEEEECCCCCCCCEECCCCHHHHHHHHCCCCCHHHEEECCEHHHHHCCCCCHHHHHHHHHHHCCECCCEECECCCCCCCCCECCCCCCHHHHHHHHHHHHCCCCCCCCCCCCEEECCCCCCCCCHHHHHHHHHHHHHHHHHHHHHHHHHHHCHHHHHHHHHHCHHHHHCCCCCCCCCHHHHHHCHHHCCCCCHHHHHHCCCCHHHHHHHHHHHHCCCC'\n",
    "print(real1,'\\n')\n",
    "print(predita1,'\\n')\n",
    "print(pss_hitRate(real1,predita1),'\\n')\n",
    "\n",
    "#teste de predição\n",
    "seq2=['MVLSEGEWQLVLHVWAKVEADVAGHGQDILIRLFKSHPETLEKFDRVKHLKTEAEMKASEDLKKHGVTVLTALGAILKKKGHHEAELKPLAQSHATKHKIPIKYLEFISEAIIHVLHSRHPGNFGADAQGAMNKALELFRKDIAAKYKELGYQG']\n",
    "predita2=pss_prediction(seq2,mlp)\n",
    "\n",
    "real2='CCCCHHHHHHHHHHHHHHHHHHHHHHHHHHHHHHHHCHHHHHHCCCCCCCCCHHHHHHCHHHHHHHHHHHHHHHHHHCCCCCCHHHHHHHHHHHHHCCCCCHHHHHHHHHHHHHHHHHHCHHHCCHHHHHHHHHHHHHHHHHHHHHHHHCCCCC'\n",
    "print(real2,'\\n')\n",
    "print(predita2,'\\n')\n",
    "print(pss_hitRate(real2,predita2),'\\n')\n",
    "\n",
    "#teste de predição\n",
    "seq3=['EKKSINECDLKGKKVLIRVDFNVPVKNGKITNDYRIRSALPTLKKVLTEGGSCVLMSHLGRPKGIPMAQAGKIRSTGGVPGFQQKATLKPVAKRLSELLLRPVTFAPDCLNAADVVSKMSPGDVVLLENVRFYKEEGSKKAKDREAMAKILASYGDVYISDAFGTAHRDSATMTGIPKILGNGAAGYLMEKEISYFAKVLGNPPRPLVAIVGGAKVSDKIQLLDNMLQRIDYLLIGGAMAYTFLKAQGYSIGKSKCEESKLEFARSLLKKAEDRKVQVILPIDHVCHTEFKAVDSPLITEDQNIPEGHMALDIGPKTIEKYVQTIGKCKSAIWNGPMGVFEMVPYSKGTFAIAKAMGRGTHEHGLMSIIGGGDSASAAELSGEAKRMSHVSTGGGASLELLEGKTLPGVTVLDDK']\n",
    "predita3=pss_prediction(seq3,mlp)\n",
    "\n",
    "real3='CCCEHHHCCCCCCEEEEECCCCCCEECCEECCCHHHHHHHHHHHHHHHCCCEEEEECCCCCCCCECHHHHHHHHHHCCCCCCCHHHCCHHHHHHHHHHHCCCCEEECCCCCCHHHHHCCCCCCEEEECCHHHEHHHHCCCHHHHHHHHHHHHCCCCEEEECCCCCCCCCCCCCCHHHHHHCCCEECHHHHHHHHHHHHHHHCCCCCEEEEECCCCHHHHHHHHHHHCCCCCEEEECCCHHHHHHHHCCCCCCCCCCCHHHHHHHHHHHHHHHHCCCEEECCCCEEEECCCCCCCCCEECCCCCCCCCCEEEEECHHHHHHHHHHHHCCCEEEEECCCCCCCCHHHCHHHHHHHHHHHHHHHHHCCEEEEECHHHHHHHHHHCHHHHCCEEECCCHHHHHHHHCCCCHHHHCCCCC'\n",
    "print(real3,'\\n')\n",
    "print(predita3,'\\n')\n",
    "print(pss_hitRate(real3,predita3),'\\n')"
   ]
  },
  {
   "cell_type": "code",
   "execution_count": 15,
   "metadata": {},
   "outputs": [
    {
     "name": "stdout",
     "output_type": "stream",
     "text": [
      "\n",
      "CCCCCHHHCEEEEHHHHCCCCCECCECCCCCCCCHHHHHHHHHHHCCCEEECEHHHHCCCCCCHHHHHHHHHHHHHHHHHHCCECCEEECCCCCCHHHCCCCCCCCCHHHHHHHHHHHHHHHHHHHHHCCCEEEEECCCCEECCHHHCCHHHHHHHHHHHHHHHHHHHHHHCCCCEEEEECCCCCCCCEECCCCHHHHHHHHCCCCCHHHEEECCEHHHHHCCCCCHHHHHHHHHHHCCECCCEECECCCCCCCCCECCCCCCHHHHHHHHHHHHCCCCCCCCCCCCEEECCCCCCCCCHHHHHHHHHHHHHHHHHHHHHHHHHHHCHHHHHHHHHHCHHHHHCCCCCCCCCHHHHHHCHHHCCCCCHHHHHHCCCCHHHHHHHHHHHHCCCC\n",
      "\n",
      "-CCCC---------HHH-----------------HHHHHHHHHHH--------HHHH------HHHHHHHHHHHHHHCHHH--------------HHHCCCCCCCCCHHHHHHCHHHHHHHHHHHHHH---------------------------------------HHHH-----------------CCCCCCHHHHHHHH--------------HHHHHCCCCCHHHHHHHHHHH-------------------------------HHHHHHH-----------------------CHHHCCHHHHHHHHHHHHHHHHHHHHHH------------------------------------------------------------HHCCCCC\n",
      "\n",
      "Porcentagem:\t37.24\n",
      "\n",
      "\n",
      "CCCCCCCCCCECECCCHHHHHHCCCCCHHECCCCHCHCHHHHHHHCCEEEECEHHCCCCCCCCCCCHCCHHHHHHCHCCCCCCEEEEEECCCCCCHHHCCCCCCCCCHHHHHHHHHHHHHHHHCCHHCCCCECEHCCCCCCCCHCCCCHHHHHHHHHHHHHHHHHCCCCCHCCCCEEEECCCCCCCCCCECCCCCHHHCHHHHHCCCCCEECECCCCCCCHCCHCCHHCHHHHHHHCCCCCCCECCCCCCCCCCCCCCCCCCCHCHHHCHHCCCCCCCCCCCCCCCCCECCCCCCCCCCHCHHCHHHHHHHHHHHHHHHHHHHHCHCHHHHHHHHCCCCCCCCCCCCCCCCCCHCHHHCCHHCHHHCHHCHCCCCCCCCCHCHHHHCCCCCCC\n",
      "\n",
      "-CCCCCCCCC-------------------------------HHHH--------HH-----------H--HHHHHH-H-------------------HH---------HHHHHHHHHHHCHHHH--HH------------CCCCCCCCCHHHHHHCHHHHHHHHHH------------------------------HHH-HHHHH----------CCCCCCH--H--HH-HHHHHHH----------------------HHCCCCCHHH-------------------------------------HHHHHHHHHHHHHHHCHHHC-CHHHHHHHH--------------------HHH--HH-HHH-HH-H------------HHHCCCCCCC\n",
      "\n",
      "Porcentagem:\t37.24\n",
      "\n"
     ]
    }
   ],
   "source": [
    "#exemplo de comparações entre o alinhamento das estruturas reais e preditas\n",
    "print(pss_align(real1,real2))\n",
    "print(pss_align(predita1,predita2))"
   ]
  }
 ],
 "metadata": {
  "kernelspec": {
   "display_name": "Python 3",
   "language": "python",
   "name": "python3"
  },
  "language_info": {
   "codemirror_mode": {
    "name": "ipython",
    "version": 3
   },
   "file_extension": ".py",
   "mimetype": "text/x-python",
   "name": "python",
   "nbconvert_exporter": "python",
   "pygments_lexer": "ipython3",
   "version": "3.6.4"
  }
 },
 "nbformat": 4,
 "nbformat_minor": 2
}
